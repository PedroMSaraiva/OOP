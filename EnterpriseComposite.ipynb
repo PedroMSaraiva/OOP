{
  "nbformat": 4,
  "nbformat_minor": 0,
  "metadata": {
    "colab": {
      "provenance": [],
      "authorship_tag": "ABX9TyPMycTp4xpvQpnop+9Mn0Jj",
      "include_colab_link": true
    },
    "kernelspec": {
      "name": "python3",
      "display_name": "Python 3"
    },
    "language_info": {
      "name": "python"
    }
  },
  "cells": [
    {
      "cell_type": "markdown",
      "metadata": {
        "id": "view-in-github",
        "colab_type": "text"
      },
      "source": [
        "<a href=\"https://colab.research.google.com/github/PedroMSaraiva/OOP/blob/master/EnterpriseComposite.ipynb\" target=\"_parent\"><img src=\"https://colab.research.google.com/assets/colab-badge.svg\" alt=\"Open In Colab\"/></a>"
      ]
    },
    {
      "cell_type": "code",
      "execution_count": null,
      "metadata": {
        "id": "LLTbAY1rIIPE"
      },
      "outputs": [],
      "source": [
        "from abc import ABC, abstractmethod\n",
        "from typing import List"
      ]
    },
    {
      "cell_type": "code",
      "source": [
        "# Component\n",
        "class EnterpriseComponent(ABC):\n",
        "    @abstractmethod\n",
        "    def gerar_produto(self):\n",
        "        pass\n",
        "\n",
        "    @abstractmethod\n",
        "    def transportar_produto(self):\n",
        "        pass\n",
        "\n",
        "    @abstractmethod\n",
        "    def efetuar_pagamento(self, valor: float):\n",
        "        pass\n",
        "\n",
        "    @abstractmethod\n",
        "    def atender_cliente(self):\n",
        "        pass\n"
      ],
      "metadata": {
        "id": "syrj9lqtILVu"
      },
      "execution_count": null,
      "outputs": []
    },
    {
      "cell_type": "code",
      "source": [
        "# Leaf\n",
        "class Produto(EnterpriseComponent):\n",
        "    def gerar_produto(self):\n",
        "        print(\"Produto gerado.\")\n",
        "\n",
        "    def transportar_produto(self):\n",
        "        pass  # Produto não implementa transportar_produto\n",
        "\n",
        "    def efetuar_pagamento(self, valor: float):\n",
        "        pass  # Produto não implementa efetuar_pagamento\n",
        "\n",
        "    def atender_cliente(self):\n",
        "        pass  # Produto não implementa atender_cliente"
      ],
      "metadata": {
        "id": "WV260asZINGK"
      },
      "execution_count": null,
      "outputs": []
    },
    {
      "cell_type": "code",
      "source": [
        "# Leaf\n",
        "class Atendimento(EnterpriseComponent):\n",
        "    def gerar_produto(self):\n",
        "        pass  # Atendimento não implementa gerar_produto\n",
        "\n",
        "    def transportar_produto(self):\n",
        "        pass  # Atendimento não implementa transportar_produto\n",
        "\n",
        "    def efetuar_pagamento(self, valor: float):\n",
        "        pass  # Atendimento não implementa efetuar_pagamento\n",
        "\n",
        "    def atender_cliente(self):\n",
        "        print(\"Cliente atendido.\")"
      ],
      "metadata": {
        "id": "LhcTGp3TIOyP"
      },
      "execution_count": null,
      "outputs": []
    },
    {
      "cell_type": "code",
      "source": [
        "# Leaf\n",
        "class Pagamento(EnterpriseComponent):\n",
        "    def gerar_produto(self):\n",
        "        pass  # Pagamento não implementa gerar_produto\n",
        "\n",
        "    def transportar_produto(self):\n",
        "        pass  # Pagamento não implementa transportar_produto\n",
        "\n",
        "    def efetuar_pagamento(self, valor: float):\n",
        "        print(f\"Pagamento efetuado: {valor}\")\n",
        "\n",
        "    def atender_cliente(self):\n",
        "        pass  # Pagamento não implementa atender_cliente"
      ],
      "metadata": {
        "id": "IEtOmd-lISyC"
      },
      "execution_count": null,
      "outputs": []
    },
    {
      "cell_type": "code",
      "source": [
        "# Composite\n",
        "class GerenteOperacional(EnterpriseComponent):\n",
        "    def __init__(self):\n",
        "        self.children = []\n",
        "\n",
        "    def add(self, component: EnterpriseComponent):\n",
        "        self.children.append(component)\n",
        "\n",
        "    def remove(self, component: EnterpriseComponent):\n",
        "        self.children.remove(component)\n",
        "\n",
        "    def gerar_produto(self):\n",
        "        for child in self.children:\n",
        "            child.gerar_produto()\n",
        "\n",
        "    def transportar_produto(self):\n",
        "        for child in self.children:\n",
        "            child.transportar_produto()\n",
        "\n",
        "    def efetuar_pagamento(self, valor: float):\n",
        "        for child in self.children:\n",
        "            child.efetuar_pagamento(valor)\n",
        "\n",
        "    def atender_cliente(self):\n",
        "        for child in self.children:\n",
        "            child.atender_cliente()"
      ],
      "metadata": {
        "id": "UsFq-YdsIYh_"
      },
      "execution_count": null,
      "outputs": []
    },
    {
      "cell_type": "code",
      "source": [
        "if __name__ == \"__main__\":\n",
        "    # Criar objetos leaf\n",
        "    produto = Produto()\n",
        "    atendimento = Atendimento()\n",
        "    pagamento = Pagamento()\n",
        "\n",
        "    # Criar composite\n",
        "    gerente_operacional = GerenteOperacional()\n",
        "\n",
        "    # Adicionar leafs ao composite\n",
        "    gerente_operacional.add(produto)\n",
        "    gerente_operacional.add(atendimento)\n",
        "    gerente_operacional.add(pagamento)\n",
        "\n",
        "    # Executar métodos composite, que delegam para os leafs\n",
        "    gerente_operacional.gerar_produto()\n",
        "    gerente_operacional.atender_cliente()\n",
        "    gerente_operacional.efetuar_pagamento(1000.0)\n"
      ],
      "metadata": {
        "id": "c2wcXJOOIfLD"
      },
      "execution_count": null,
      "outputs": []
    }
  ]
}