{
  "nbformat": 4,
  "nbformat_minor": 0,
  "metadata": {
    "colab": {
      "provenance": [],
      "authorship_tag": "ABX9TyOcOx5iw21CqwLgU7Z47cnt",
      "include_colab_link": true
    },
    "kernelspec": {
      "name": "python3",
      "display_name": "Python 3"
    },
    "language_info": {
      "name": "python"
    }
  },
  "cells": [
    {
      "cell_type": "markdown",
      "metadata": {
        "id": "view-in-github",
        "colab_type": "text"
      },
      "source": [
        "<a href=\"https://colab.research.google.com/github/PedroMSaraiva/OOP/blob/master/FreioCarro.ipynb\" target=\"_parent\"><img src=\"https://colab.research.google.com/assets/colab-badge.svg\" alt=\"Open In Colab\"/></a>"
      ]
    },
    {
      "cell_type": "code",
      "execution_count": null,
      "metadata": {
        "id": "U753fgSUEWRe"
      },
      "outputs": [],
      "source": [
        "from abc import ABC, abstractmethod"
      ]
    },
    {
      "cell_type": "code",
      "source": [
        "# Interface Strategy\n",
        "class TipoFreiar(ABC):\n",
        "    @abstractmethod\n",
        "    def freiar(self, velocidade_de_freio: float):\n",
        "        pass\n"
      ],
      "metadata": {
        "id": "f-rFWnz-Eati"
      },
      "execution_count": null,
      "outputs": []
    },
    {
      "cell_type": "code",
      "source": [
        "# Concrete Strategy 1\n",
        "class Freio(TipoFreiar):\n",
        "    def freiar(self, velocidade_de_freio: float):\n",
        "        return self.freiar_normal(velocidade_de_freio)\n",
        "\n",
        "    def freiar_normal(self, velocidade_de_freio: float):\n",
        "        print(f\"Freiando normalmente a {velocidade_de_freio}m/s².\")\n",
        "\n",
        "# Concrete Strategy 2\n",
        "class FreioABS(TipoFreiar):\n",
        "\n",
        "    def freiar(self, velocidade_de_freio: float):\n",
        "        return self.freiar_eficiente(velocidade_de_freio)\n",
        "\n",
        "    def freiar_eficiente(self, velocidade_de_freio: float):\n",
        "        print(f\"Freiando eficientemente a {velocidade_de_freio}m/s² com ABS.\")"
      ],
      "metadata": {
        "id": "-DN3gtSwEekk"
      },
      "execution_count": null,
      "outputs": []
    },
    {
      "cell_type": "code",
      "source": [
        "# Context\n",
        "class Carro:\n",
        "    def __init__(self, tipo_freiar: TipoFreiar):\n",
        "        self._tipo_freiar = tipo_freiar\n",
        "\n",
        "    def freiar(self, velocidade_de_freio: float):\n",
        "        self._tipo_freiar.freiar(velocidade_de_freio)\n",
        "\n",
        "    @tipo_freiar.getter\n",
        "    def tipo_freiar(self) -> TipoFreiar:\n",
        "        return self._tipo_freiar\n",
        "\n",
        "    @tipo_freiar.setter\n",
        "    def tipo_freiar(self, tipo_freiar: TipoFreiar):\n",
        "        self._tipo_freiar = tipo_freiar"
      ],
      "metadata": {
        "id": "trj6sL-gEg-8"
      },
      "execution_count": null,
      "outputs": []
    },
    {
      "cell_type": "code",
      "source": [
        "# Client code\n",
        "if __name__ == \"__main__\":\n",
        "    # O carro pode mudar de estratégia em tempo de execução.\n",
        "    carro = Carro(Freio())\n",
        "    carro.freiar(5.0)\n",
        "\n",
        "    carro._tipo_freiar = FreioABS()\n",
        "    carro.freiar(7.0)\n"
      ],
      "metadata": {
        "id": "SiGEE5i2Eik7"
      },
      "execution_count": null,
      "outputs": []
    }
  ]
}